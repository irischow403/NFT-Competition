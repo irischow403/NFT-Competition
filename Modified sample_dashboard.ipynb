{
 "cells": [
  {
   "cell_type": "markdown",
   "metadata": {},
   "source": [
    "# Load data"
   ]
  },
  {
   "cell_type": "code",
   "execution_count": 112,
   "metadata": {},
   "outputs": [],
   "source": [
    "# Import packages you need\n",
    "import pandas as pd\n",
    "import numpy as np\n",
    "import datetime\n",
    "from datetime import date\n",
    "\n",
    "\n",
    "# Packages for dashboard\n",
    "import dash\n",
    "import dash_core_components as dcc\n",
    "import dash_html_components as html\n",
    "from dash.dependencies import Input, Output\n",
    "import plotly.express as px\n",
    "\n",
    "import pandas as pd\n",
    "from sklearn.linear_model import LinearRegression\n",
    "\n",
    "\n",
    "import numpy as np\n",
    "\n",
    "from sklearn.model_selection import train_test_split, cross_val_score"
   ]
  },
  {
   "cell_type": "code",
   "execution_count": 2,
   "metadata": {},
   "outputs": [],
   "source": [
    "# If you can't view charts in Jupyter Lab\n",
    "import plotly.io as pio\n",
    "pio.renderers.default = 'iframe' "
   ]
  },
  {
   "cell_type": "code",
   "execution_count": 3,
   "metadata": {},
   "outputs": [
    {
     "name": "stderr",
     "output_type": "stream",
     "text": [
      "C:\\Users\\15706\\anaconda3\\lib\\site-packages\\IPython\\core\\interactiveshell.py:3437: DtypeWarning:\n",
      "\n",
      "Columns (13,14) have mixed types.Specify dtype option on import or set low_memory=False.\n",
      "\n"
     ]
    }
   ],
   "source": [
    "assets = pd.read_csv('Assets.csv')\n",
    "events = pd.read_csv('events.csv')\n",
    "collections = pd.read_csv('Collections.csv')"
   ]
  },
  {
   "cell_type": "code",
   "execution_count": 4,
   "metadata": {},
   "outputs": [],
   "source": [
    "assets_sim = assets[['token_id', 'owner_address',\n",
    "       'collection_slug', 'last_sale_total_price', 'name', 'num_sales', 'asset_contract_owner',\n",
    "       'asset_favorites', 'asset_category']]"
   ]
  },
  {
   "cell_type": "code",
   "execution_count": 5,
   "metadata": {},
   "outputs": [],
   "source": [
    "collections_sim = collections[['slug', 'primary_asset_contracts_address',\n",
    "       'display_data_card_display_style',\n",
    "       'safelist_request_status', 'name', 'telegram_url', 'twitter_username',\n",
    "       'instagram_username', 'discord_url', 'medium_username', 'external_url']]"
   ]
  },
  {
   "cell_type": "code",
   "execution_count": 6,
   "metadata": {},
   "outputs": [],
   "source": [
    "events_sim = events[['asset_token_id','collection_slug', 'created_date', 'id', 'quantity',\n",
    "       'listing_time', 'event_type', 'total_price', 'auction_type', 'duration']]"
   ]
  },
  {
   "cell_type": "markdown",
   "metadata": {},
   "source": [
    "## Pie chart"
   ]
  },
  {
   "cell_type": "code",
   "execution_count": 7,
   "metadata": {},
   "outputs": [
    {
     "data": {
      "text/plain": [
       "asset_category\n",
       "collectibles          5283\n",
       "art                   3541\n",
       "utility               2280\n",
       "sports                1425\n",
       "domain-names          1211\n",
       "trading-cards          806\n",
       "virtual-worlds         706\n",
       "music                  549\n",
       "photography            483\n",
       "science&technology     265\n",
       "Name: token_id, dtype: int64"
      ]
     },
     "execution_count": 7,
     "metadata": {},
     "output_type": "execute_result"
    }
   ],
   "source": [
    "# Get most popular categories\n",
    "asset_categories = assets_sim.groupby('asset_category')['token_id'].count().sort_values(ascending=False)\n",
    "asset_categories"
   ]
  },
  {
   "cell_type": "code",
   "execution_count": 8,
   "metadata": {},
   "outputs": [
    {
     "data": {
      "text/html": [
       "<iframe\n",
       "    scrolling=\"no\"\n",
       "    width=\"520px\"\n",
       "    height=\"520\"\n",
       "    src=\"iframe_figures/figure_8.html\"\n",
       "    frameborder=\"0\"\n",
       "    allowfullscreen\n",
       "></iframe>\n"
      ]
     },
     "metadata": {},
     "output_type": "display_data"
    }
   ],
   "source": [
    "pie_chart = px.pie(\n",
    "                values= asset_categories.values,\n",
    "                title='Major Categories', \n",
    "                names= asset_categories.index,\n",
    "                hole=.3,\n",
    "                color_discrete_sequence=px.colors.qualitative.G10,\n",
    "                width=500, height =500\n",
    "                )\n",
    "pie_chart.update(layout=dict(title=dict(x=0.5)))\n",
    "pie_chart.show()"
   ]
  },
  {
   "cell_type": "markdown",
   "metadata": {},
   "source": [
    "## Bar chart"
   ]
  },
  {
   "cell_type": "code",
   "execution_count": 9,
   "metadata": {},
   "outputs": [],
   "source": [
    "# Get % of assets having social media account links\n",
    "social_media_linkage = collections_sim[['telegram_url', 'twitter_username', 'instagram_username',\n",
    "       'discord_url', 'medium_username']].sum()/len(collections_sim)*100\n",
    "social_media_linkage = social_media_linkage.sort_values(ascending=False)"
   ]
  },
  {
   "cell_type": "code",
   "execution_count": 10,
   "metadata": {},
   "outputs": [
    {
     "data": {
      "text/html": [
       "<div>\n",
       "<style scoped>\n",
       "    .dataframe tbody tr th:only-of-type {\n",
       "        vertical-align: middle;\n",
       "    }\n",
       "\n",
       "    .dataframe tbody tr th {\n",
       "        vertical-align: top;\n",
       "    }\n",
       "\n",
       "    .dataframe thead th {\n",
       "        text-align: right;\n",
       "    }\n",
       "</style>\n",
       "<table border=\"1\" class=\"dataframe\">\n",
       "  <thead>\n",
       "    <tr style=\"text-align: right;\">\n",
       "      <th></th>\n",
       "      <th>linkage</th>\n",
       "      <th>media_link</th>\n",
       "      <th>media</th>\n",
       "    </tr>\n",
       "  </thead>\n",
       "  <tbody>\n",
       "    <tr>\n",
       "      <th>0</th>\n",
       "      <td>69.166083</td>\n",
       "      <td>discord_url</td>\n",
       "      <td>discord</td>\n",
       "    </tr>\n",
       "    <tr>\n",
       "      <th>1</th>\n",
       "      <td>48.913805</td>\n",
       "      <td>instagram_username</td>\n",
       "      <td>instagram</td>\n",
       "    </tr>\n",
       "    <tr>\n",
       "      <th>2</th>\n",
       "      <td>47.161878</td>\n",
       "      <td>twitter_username</td>\n",
       "      <td>twitter</td>\n",
       "    </tr>\n",
       "    <tr>\n",
       "      <th>3</th>\n",
       "      <td>15.346882</td>\n",
       "      <td>medium_username</td>\n",
       "      <td>medium</td>\n",
       "    </tr>\n",
       "    <tr>\n",
       "      <th>4</th>\n",
       "      <td>7.077786</td>\n",
       "      <td>telegram_url</td>\n",
       "      <td>telegram</td>\n",
       "    </tr>\n",
       "  </tbody>\n",
       "</table>\n",
       "</div>"
      ],
      "text/plain": [
       "     linkage          media_link      media\n",
       "0  69.166083         discord_url    discord\n",
       "1  48.913805  instagram_username  instagram\n",
       "2  47.161878    twitter_username    twitter\n",
       "3  15.346882     medium_username     medium\n",
       "4   7.077786        telegram_url   telegram"
      ]
     },
     "execution_count": 10,
     "metadata": {},
     "output_type": "execute_result"
    }
   ],
   "source": [
    "df_social_media_linkage = pd.DataFrame({'linkage': social_media_linkage.values, 'media_link':social_media_linkage.index})\n",
    "df_social_media_linkage['media']=df_social_media_linkage['media_link'].apply(lambda x: x.split('_')[0])\n",
    "df_social_media_linkage"
   ]
  },
  {
   "cell_type": "code",
   "execution_count": 11,
   "metadata": {},
   "outputs": [
    {
     "data": {
      "text/html": [
       "<iframe\n",
       "    scrolling=\"no\"\n",
       "    width=\"520px\"\n",
       "    height=\"520\"\n",
       "    src=\"iframe_figures/figure_11.html\"\n",
       "    frameborder=\"0\"\n",
       "    allowfullscreen\n",
       "></iframe>\n"
      ]
     },
     "metadata": {},
     "output_type": "display_data"
    }
   ],
   "source": [
    "bar_chart = px.bar(df_social_media_linkage, x='media', y='linkage',title=\"Social Media Linkage %\",\n",
    "                  width=500, height =500)\n",
    "bar_chart.update(layout=dict(title=dict(x=0.5)))\n",
    "bar_chart.update_layout(\n",
    "    xaxis_title=\"Social Medias\",\n",
    "    yaxis_title=\"Linkage %\")\n",
    "bar_chart.show()"
   ]
  },
  {
   "cell_type": "markdown",
   "metadata": {},
   "source": [
    "## Boxplot"
   ]
  },
  {
   "cell_type": "code",
   "execution_count": 12,
   "metadata": {},
   "outputs": [
    {
     "name": "stderr",
     "output_type": "stream",
     "text": [
      "<ipython-input-12-cf77a8ac5067>:2: SettingWithCopyWarning:\n",
      "\n",
      "\n",
      "A value is trying to be set on a copy of a slice from a DataFrame.\n",
      "Try using .loc[row_indexer,col_indexer] = value instead\n",
      "\n",
      "See the caveats in the documentation: https://pandas.pydata.org/pandas-docs/stable/user_guide/indexing.html#returning-a-view-versus-a-copy\n",
      "\n",
      "<ipython-input-12-cf77a8ac5067>:3: SettingWithCopyWarning:\n",
      "\n",
      "\n",
      "A value is trying to be set on a copy of a slice from a DataFrame.\n",
      "Try using .loc[row_indexer,col_indexer] = value instead\n",
      "\n",
      "See the caveats in the documentation: https://pandas.pydata.org/pandas-docs/stable/user_guide/indexing.html#returning-a-view-versus-a-copy\n",
      "\n",
      "C:\\Users\\15706\\anaconda3\\lib\\site-packages\\pandas\\core\\generic.py:6392: SettingWithCopyWarning:\n",
      "\n",
      "\n",
      "A value is trying to be set on a copy of a slice from a DataFrame\n",
      "\n",
      "See the caveats in the documentation: https://pandas.pydata.org/pandas-docs/stable/user_guide/indexing.html#returning-a-view-versus-a-copy\n",
      "\n",
      "<ipython-input-12-cf77a8ac5067>:5: SettingWithCopyWarning:\n",
      "\n",
      "\n",
      "A value is trying to be set on a copy of a slice from a DataFrame.\n",
      "Try using .loc[row_indexer,col_indexer] = value instead\n",
      "\n",
      "See the caveats in the documentation: https://pandas.pydata.org/pandas-docs/stable/user_guide/indexing.html#returning-a-view-versus-a-copy\n",
      "\n"
     ]
    }
   ],
   "source": [
    "# Notice the values in asset_favorites are not cleaned, there are values like \"1.1K\" inside\n",
    "assets_sim['num_check'] = assets_sim['asset_favorites'].str.find('K')\n",
    "assets_sim['favorite'] = assets_sim['asset_favorites'].apply(lambda x: float(x.split('K')[0])*1000 if len(x.split('K'))>1 else np.nan)\n",
    "assets_sim['favorite'].fillna(assets_sim['asset_favorites'],inplace=True)\n",
    "assets_sim['favorite'] = assets_sim['favorite'].apply(lambda x: int(x))"
   ]
  },
  {
   "cell_type": "code",
   "execution_count": 13,
   "metadata": {},
   "outputs": [],
   "source": [
    "# Remove outlier after inpsection\n",
    "assets_sim_clean = assets_sim.drop(assets_sim[assets_sim['favorite']==321200].index)"
   ]
  },
  {
   "cell_type": "code",
   "execution_count": null,
   "metadata": {},
   "outputs": [],
   "source": []
  },
  {
   "cell_type": "code",
   "execution_count": null,
   "metadata": {},
   "outputs": [],
   "source": []
  },
  {
   "cell_type": "markdown",
   "metadata": {},
   "source": [
    "# Merge table to generate insights"
   ]
  },
  {
   "cell_type": "code",
   "execution_count": 50,
   "metadata": {},
   "outputs": [],
   "source": [
    "tb_1 = events_sim.merge(collections_sim, left_on='collection_slug', right_on = 'slug')\n",
    "tb_1.pop('slug')\n",
    "tb_1.pop('name')\n",
    "all_nfts = tb_1.merge(assets_sim, left_on=['collection_slug', 'asset_token_id'], right_on =['collection_slug', 'token_id'], how='left')"
   ]
  },
  {
   "cell_type": "code",
   "execution_count": 51,
   "metadata": {},
   "outputs": [],
   "source": [
    "from datetime import date\n",
    "all_nfts['date'] = all_nfts['created_date'].apply(lambda x: x.split('T')[0])\n",
    "all_nfts['date'] = all_nfts['date'].apply(lambda x: date(*map(int, x.split('-'))))"
   ]
  },
  {
   "cell_type": "code",
   "execution_count": 52,
   "metadata": {},
   "outputs": [
    {
     "name": "stderr",
     "output_type": "stream",
     "text": [
      "<ipython-input-52-7c222fd664d9>:3: SettingWithCopyWarning:\n",
      "\n",
      "\n",
      "A value is trying to be set on a copy of a slice from a DataFrame.\n",
      "Try using .loc[row_indexer,col_indexer] = value instead\n",
      "\n",
      "See the caveats in the documentation: https://pandas.pydata.org/pandas-docs/stable/user_guide/indexing.html#returning-a-view-versus-a-copy\n",
      "\n"
     ]
    }
   ],
   "source": [
    "# Choose data from successful transactions, top 4 categories and in year 2022\n",
    "sales_info = all_nfts[all_nfts['event_type']=='successful']\n",
    "sales_info['major_categories'] = sales_info['asset_category'].apply(lambda x: x in asset_categories[:4].index)\n",
    "sales_info = sales_info[sales_info['major_categories']==1]\n",
    "sales_info = sales_info[sales_info['date'] > datetime.date(2022,1,1)]"
   ]
  },
  {
   "cell_type": "code",
   "execution_count": 53,
   "metadata": {},
   "outputs": [
    {
     "data": {
      "text/html": [
       "<div>\n",
       "<style scoped>\n",
       "    .dataframe tbody tr th:only-of-type {\n",
       "        vertical-align: middle;\n",
       "    }\n",
       "\n",
       "    .dataframe tbody tr th {\n",
       "        vertical-align: top;\n",
       "    }\n",
       "\n",
       "    .dataframe thead th {\n",
       "        text-align: right;\n",
       "    }\n",
       "</style>\n",
       "<table border=\"1\" class=\"dataframe\">\n",
       "  <thead>\n",
       "    <tr style=\"text-align: right;\">\n",
       "      <th></th>\n",
       "      <th>date</th>\n",
       "      <th>asset_category</th>\n",
       "      <th>asset_token_id</th>\n",
       "      <th>collection_slug</th>\n",
       "      <th>created_date</th>\n",
       "      <th>id</th>\n",
       "      <th>quantity</th>\n",
       "      <th>listing_time</th>\n",
       "      <th>event_type</th>\n",
       "      <th>total_price</th>\n",
       "      <th>...</th>\n",
       "      <th>token_id</th>\n",
       "      <th>owner_address</th>\n",
       "      <th>last_sale_total_price</th>\n",
       "      <th>name</th>\n",
       "      <th>num_sales</th>\n",
       "      <th>asset_contract_owner</th>\n",
       "      <th>asset_favorites</th>\n",
       "      <th>num_check</th>\n",
       "      <th>favorite</th>\n",
       "      <th>major_categories</th>\n",
       "    </tr>\n",
       "  </thead>\n",
       "  <tbody>\n",
       "    <tr>\n",
       "      <th>0</th>\n",
       "      <td>2022-01-02</td>\n",
       "      <td>art</td>\n",
       "      <td>6</td>\n",
       "      <td>6</td>\n",
       "      <td>6</td>\n",
       "      <td>6</td>\n",
       "      <td>6</td>\n",
       "      <td>6</td>\n",
       "      <td>6</td>\n",
       "      <td>6</td>\n",
       "      <td>...</td>\n",
       "      <td>6</td>\n",
       "      <td>6</td>\n",
       "      <td>6</td>\n",
       "      <td>6</td>\n",
       "      <td>6</td>\n",
       "      <td>6</td>\n",
       "      <td>6</td>\n",
       "      <td>6</td>\n",
       "      <td>6</td>\n",
       "      <td>6</td>\n",
       "    </tr>\n",
       "    <tr>\n",
       "      <th>1</th>\n",
       "      <td>2022-01-02</td>\n",
       "      <td>collectibles</td>\n",
       "      <td>9</td>\n",
       "      <td>9</td>\n",
       "      <td>9</td>\n",
       "      <td>9</td>\n",
       "      <td>9</td>\n",
       "      <td>9</td>\n",
       "      <td>9</td>\n",
       "      <td>9</td>\n",
       "      <td>...</td>\n",
       "      <td>9</td>\n",
       "      <td>9</td>\n",
       "      <td>9</td>\n",
       "      <td>7</td>\n",
       "      <td>9</td>\n",
       "      <td>9</td>\n",
       "      <td>9</td>\n",
       "      <td>9</td>\n",
       "      <td>9</td>\n",
       "      <td>9</td>\n",
       "    </tr>\n",
       "    <tr>\n",
       "      <th>2</th>\n",
       "      <td>2022-01-02</td>\n",
       "      <td>sports</td>\n",
       "      <td>2</td>\n",
       "      <td>2</td>\n",
       "      <td>2</td>\n",
       "      <td>2</td>\n",
       "      <td>2</td>\n",
       "      <td>2</td>\n",
       "      <td>2</td>\n",
       "      <td>2</td>\n",
       "      <td>...</td>\n",
       "      <td>2</td>\n",
       "      <td>2</td>\n",
       "      <td>2</td>\n",
       "      <td>2</td>\n",
       "      <td>2</td>\n",
       "      <td>1</td>\n",
       "      <td>2</td>\n",
       "      <td>2</td>\n",
       "      <td>2</td>\n",
       "      <td>2</td>\n",
       "    </tr>\n",
       "    <tr>\n",
       "      <th>3</th>\n",
       "      <td>2022-01-02</td>\n",
       "      <td>utility</td>\n",
       "      <td>34</td>\n",
       "      <td>34</td>\n",
       "      <td>34</td>\n",
       "      <td>34</td>\n",
       "      <td>34</td>\n",
       "      <td>34</td>\n",
       "      <td>34</td>\n",
       "      <td>34</td>\n",
       "      <td>...</td>\n",
       "      <td>34</td>\n",
       "      <td>34</td>\n",
       "      <td>34</td>\n",
       "      <td>34</td>\n",
       "      <td>34</td>\n",
       "      <td>34</td>\n",
       "      <td>34</td>\n",
       "      <td>34</td>\n",
       "      <td>34</td>\n",
       "      <td>34</td>\n",
       "    </tr>\n",
       "    <tr>\n",
       "      <th>4</th>\n",
       "      <td>2022-01-03</td>\n",
       "      <td>art</td>\n",
       "      <td>2</td>\n",
       "      <td>2</td>\n",
       "      <td>2</td>\n",
       "      <td>2</td>\n",
       "      <td>2</td>\n",
       "      <td>2</td>\n",
       "      <td>2</td>\n",
       "      <td>2</td>\n",
       "      <td>...</td>\n",
       "      <td>2</td>\n",
       "      <td>2</td>\n",
       "      <td>2</td>\n",
       "      <td>2</td>\n",
       "      <td>2</td>\n",
       "      <td>2</td>\n",
       "      <td>2</td>\n",
       "      <td>2</td>\n",
       "      <td>2</td>\n",
       "      <td>2</td>\n",
       "    </tr>\n",
       "    <tr>\n",
       "      <th>...</th>\n",
       "      <td>...</td>\n",
       "      <td>...</td>\n",
       "      <td>...</td>\n",
       "      <td>...</td>\n",
       "      <td>...</td>\n",
       "      <td>...</td>\n",
       "      <td>...</td>\n",
       "      <td>...</td>\n",
       "      <td>...</td>\n",
       "      <td>...</td>\n",
       "      <td>...</td>\n",
       "      <td>...</td>\n",
       "      <td>...</td>\n",
       "      <td>...</td>\n",
       "      <td>...</td>\n",
       "      <td>...</td>\n",
       "      <td>...</td>\n",
       "      <td>...</td>\n",
       "      <td>...</td>\n",
       "      <td>...</td>\n",
       "      <td>...</td>\n",
       "    </tr>\n",
       "    <tr>\n",
       "      <th>243</th>\n",
       "      <td>2022-03-05</td>\n",
       "      <td>utility</td>\n",
       "      <td>433</td>\n",
       "      <td>433</td>\n",
       "      <td>433</td>\n",
       "      <td>433</td>\n",
       "      <td>433</td>\n",
       "      <td>406</td>\n",
       "      <td>433</td>\n",
       "      <td>433</td>\n",
       "      <td>...</td>\n",
       "      <td>433</td>\n",
       "      <td>433</td>\n",
       "      <td>395</td>\n",
       "      <td>427</td>\n",
       "      <td>433</td>\n",
       "      <td>401</td>\n",
       "      <td>433</td>\n",
       "      <td>433</td>\n",
       "      <td>433</td>\n",
       "      <td>433</td>\n",
       "    </tr>\n",
       "    <tr>\n",
       "      <th>244</th>\n",
       "      <td>2022-03-06</td>\n",
       "      <td>art</td>\n",
       "      <td>24</td>\n",
       "      <td>24</td>\n",
       "      <td>24</td>\n",
       "      <td>24</td>\n",
       "      <td>24</td>\n",
       "      <td>19</td>\n",
       "      <td>24</td>\n",
       "      <td>24</td>\n",
       "      <td>...</td>\n",
       "      <td>24</td>\n",
       "      <td>24</td>\n",
       "      <td>23</td>\n",
       "      <td>23</td>\n",
       "      <td>24</td>\n",
       "      <td>21</td>\n",
       "      <td>24</td>\n",
       "      <td>24</td>\n",
       "      <td>24</td>\n",
       "      <td>24</td>\n",
       "    </tr>\n",
       "    <tr>\n",
       "      <th>245</th>\n",
       "      <td>2022-03-06</td>\n",
       "      <td>collectibles</td>\n",
       "      <td>27</td>\n",
       "      <td>27</td>\n",
       "      <td>27</td>\n",
       "      <td>27</td>\n",
       "      <td>27</td>\n",
       "      <td>22</td>\n",
       "      <td>27</td>\n",
       "      <td>27</td>\n",
       "      <td>...</td>\n",
       "      <td>27</td>\n",
       "      <td>27</td>\n",
       "      <td>21</td>\n",
       "      <td>27</td>\n",
       "      <td>27</td>\n",
       "      <td>21</td>\n",
       "      <td>27</td>\n",
       "      <td>27</td>\n",
       "      <td>27</td>\n",
       "      <td>27</td>\n",
       "    </tr>\n",
       "    <tr>\n",
       "      <th>246</th>\n",
       "      <td>2022-03-06</td>\n",
       "      <td>sports</td>\n",
       "      <td>12</td>\n",
       "      <td>12</td>\n",
       "      <td>12</td>\n",
       "      <td>12</td>\n",
       "      <td>12</td>\n",
       "      <td>12</td>\n",
       "      <td>12</td>\n",
       "      <td>12</td>\n",
       "      <td>...</td>\n",
       "      <td>12</td>\n",
       "      <td>12</td>\n",
       "      <td>12</td>\n",
       "      <td>12</td>\n",
       "      <td>12</td>\n",
       "      <td>11</td>\n",
       "      <td>12</td>\n",
       "      <td>12</td>\n",
       "      <td>12</td>\n",
       "      <td>12</td>\n",
       "    </tr>\n",
       "    <tr>\n",
       "      <th>247</th>\n",
       "      <td>2022-03-06</td>\n",
       "      <td>utility</td>\n",
       "      <td>38</td>\n",
       "      <td>38</td>\n",
       "      <td>38</td>\n",
       "      <td>38</td>\n",
       "      <td>38</td>\n",
       "      <td>35</td>\n",
       "      <td>38</td>\n",
       "      <td>38</td>\n",
       "      <td>...</td>\n",
       "      <td>38</td>\n",
       "      <td>38</td>\n",
       "      <td>34</td>\n",
       "      <td>38</td>\n",
       "      <td>38</td>\n",
       "      <td>37</td>\n",
       "      <td>38</td>\n",
       "      <td>38</td>\n",
       "      <td>38</td>\n",
       "      <td>38</td>\n",
       "    </tr>\n",
       "  </tbody>\n",
       "</table>\n",
       "<p>248 rows × 31 columns</p>\n",
       "</div>"
      ],
      "text/plain": [
       "           date asset_category  asset_token_id  collection_slug  created_date  \\\n",
       "0    2022-01-02            art               6                6             6   \n",
       "1    2022-01-02   collectibles               9                9             9   \n",
       "2    2022-01-02         sports               2                2             2   \n",
       "3    2022-01-02        utility              34               34            34   \n",
       "4    2022-01-03            art               2                2             2   \n",
       "..          ...            ...             ...              ...           ...   \n",
       "243  2022-03-05        utility             433              433           433   \n",
       "244  2022-03-06            art              24               24            24   \n",
       "245  2022-03-06   collectibles              27               27            27   \n",
       "246  2022-03-06         sports              12               12            12   \n",
       "247  2022-03-06        utility              38               38            38   \n",
       "\n",
       "      id  quantity  listing_time  event_type  total_price  ...  token_id  \\\n",
       "0      6         6             6           6            6  ...         6   \n",
       "1      9         9             9           9            9  ...         9   \n",
       "2      2         2             2           2            2  ...         2   \n",
       "3     34        34            34          34           34  ...        34   \n",
       "4      2         2             2           2            2  ...         2   \n",
       "..   ...       ...           ...         ...          ...  ...       ...   \n",
       "243  433       433           406         433          433  ...       433   \n",
       "244   24        24            19          24           24  ...        24   \n",
       "245   27        27            22          27           27  ...        27   \n",
       "246   12        12            12          12           12  ...        12   \n",
       "247   38        38            35          38           38  ...        38   \n",
       "\n",
       "     owner_address  last_sale_total_price  name  num_sales  \\\n",
       "0                6                      6     6          6   \n",
       "1                9                      9     7          9   \n",
       "2                2                      2     2          2   \n",
       "3               34                     34    34         34   \n",
       "4                2                      2     2          2   \n",
       "..             ...                    ...   ...        ...   \n",
       "243            433                    395   427        433   \n",
       "244             24                     23    23         24   \n",
       "245             27                     21    27         27   \n",
       "246             12                     12    12         12   \n",
       "247             38                     34    38         38   \n",
       "\n",
       "     asset_contract_owner  asset_favorites  num_check  favorite  \\\n",
       "0                       6                6          6         6   \n",
       "1                       9                9          9         9   \n",
       "2                       1                2          2         2   \n",
       "3                      34               34         34        34   \n",
       "4                       2                2          2         2   \n",
       "..                    ...              ...        ...       ...   \n",
       "243                   401              433        433       433   \n",
       "244                    21               24         24        24   \n",
       "245                    21               27         27        27   \n",
       "246                    11               12         12        12   \n",
       "247                    37               38         38        38   \n",
       "\n",
       "     major_categories  \n",
       "0                   6  \n",
       "1                   9  \n",
       "2                   2  \n",
       "3                  34  \n",
       "4                   2  \n",
       "..                ...  \n",
       "243               433  \n",
       "244                24  \n",
       "245                27  \n",
       "246                12  \n",
       "247                38  \n",
       "\n",
       "[248 rows x 31 columns]"
      ]
     },
     "execution_count": 53,
     "metadata": {},
     "output_type": "execute_result"
    }
   ],
   "source": [
    "sales_agg = sales_info.groupby(['date','asset_category']).count().reset_index(level='asset_category').reset_index()\n",
    "sales_agg"
   ]
  },
  {
   "cell_type": "code",
   "execution_count": 54,
   "metadata": {},
   "outputs": [
    {
     "data": {
      "text/html": [
       "<iframe\n",
       "    scrolling=\"no\"\n",
       "    width=\"520px\"\n",
       "    height=\"520\"\n",
       "    src=\"iframe_figures/figure_54.html\"\n",
       "    frameborder=\"0\"\n",
       "    allowfullscreen\n",
       "></iframe>\n"
      ]
     },
     "metadata": {},
     "output_type": "display_data"
    }
   ],
   "source": [
    "line_chart_sales = px.line(sales_agg, x='date', y='num_sales',\n",
    "                 color='asset_category', title='# Sales',\n",
    "                 width=500, height =500, color_discrete_sequence=px.colors.qualitative.G10)\n",
    "line_chart_sales.update(layout=dict(title=dict(x=0.5)))\n",
    "line_chart_sales.update_layout(legend=dict(\n",
    "    yanchor=\"top\",\n",
    "    y=0.99,\n",
    "    xanchor=\"left\",\n",
    "    x=0.01\n",
    "))\n",
    "\n",
    "line_chart_sales.show()"
   ]
  },
  {
   "cell_type": "code",
   "execution_count": 55,
   "metadata": {},
   "outputs": [
    {
     "data": {
      "text/html": [
       "<iframe\n",
       "    scrolling=\"no\"\n",
       "    width=\"520px\"\n",
       "    height=\"520\"\n",
       "    src=\"iframe_figures/figure_55.html\"\n",
       "    frameborder=\"0\"\n",
       "    allowfullscreen\n",
       "></iframe>\n"
      ]
     },
     "metadata": {},
     "output_type": "display_data"
    }
   ],
   "source": [
    "line_chart_favorite = px.line(sales_agg, x='date', y='favorite',\n",
    "                 color='asset_category', title='# favorite',\n",
    "                 width=500, height =500, color_discrete_sequence=px.colors.qualitative.G10)\n",
    "line_chart_favorite.update(layout=dict(title=dict(x=0.5)))\n",
    "line_chart_favorite.update_layout(legend=dict(\n",
    "    yanchor=\"top\",\n",
    "    y=0.99,\n",
    "    xanchor=\"left\",\n",
    "    x=0.01\n",
    "))\n",
    "\n",
    "line_chart_favorite.show()"
   ]
  },
  {
   "cell_type": "code",
   "execution_count": 56,
   "metadata": {},
   "outputs": [],
   "source": [
    "# Clean prices format\n",
    "all_nfts.last_sale_total_price = all_nfts.last_sale_total_price.apply(lambda x: float(x))\n",
    "all_nfts.total_price = all_nfts.total_price.apply(lambda x: float(x))\n",
    "\n",
    "# Drop one outlier\n",
    "all_nfts.drop(34621,inplace=True)"
   ]
  },
  {
   "cell_type": "code",
   "execution_count": 57,
   "metadata": {},
   "outputs": [
    {
     "data": {
      "text/html": [
       "<iframe\n",
       "    scrolling=\"no\"\n",
       "    width=\"520px\"\n",
       "    height=\"520\"\n",
       "    src=\"iframe_figures/figure_57.html\"\n",
       "    frameborder=\"0\"\n",
       "    allowfullscreen\n",
       "></iframe>\n"
      ]
     },
     "metadata": {},
     "output_type": "display_data"
    }
   ],
   "source": [
    "scatter_plot = px.scatter(all_nfts, x='last_sale_total_price', y=\"total_price\",  title=\"Price changes\", \n",
    "                          range_y = [1, 25], trendline=\"ols\", width=500, height =500)\n",
    "scatter_plot.update_xaxes(title_text=\"Last price in log\", type=\"log\")\n",
    "scatter_plot.update_yaxes(title_text=\"Current price in log\", type=\"log\")\n",
    "scatter_plot.update(layout=dict(title=dict(x=0.5)))\n",
    "\n",
    "scatter_plot.show()"
   ]
  },
  {
   "cell_type": "code",
   "execution_count": 58,
   "metadata": {},
   "outputs": [
    {
     "name": "stderr",
     "output_type": "stream",
     "text": [
      "<ipython-input-58-884b776fe00c>:3: SettingWithCopyWarning:\n",
      "\n",
      "\n",
      "A value is trying to be set on a copy of a slice from a DataFrame.\n",
      "Try using .loc[row_indexer,col_indexer] = value instead\n",
      "\n",
      "See the caveats in the documentation: https://pandas.pydata.org/pandas-docs/stable/user_guide/indexing.html#returning-a-view-versus-a-copy\n",
      "\n"
     ]
    }
   ],
   "source": [
    "# Select data from auction creation and in year 2022\n",
    "auction_info = all_nfts[all_nfts['event_type']=='created']\n",
    "auction_info['duration_days'] = auction_info['duration']/86400\n",
    "\n",
    "auction_agg = auction_info.groupby(['date'])['duration_days'].mean().reset_index()\n",
    "auction_agg = auction_agg[auction_agg['date']>datetime.date(2022,1,1)]"
   ]
  },
  {
   "cell_type": "code",
   "execution_count": 59,
   "metadata": {},
   "outputs": [
    {
     "data": {
      "text/html": [
       "<iframe\n",
       "    scrolling=\"no\"\n",
       "    width=\"520px\"\n",
       "    height=\"520\"\n",
       "    src=\"iframe_figures/figure_59.html\"\n",
       "    frameborder=\"0\"\n",
       "    allowfullscreen\n",
       "></iframe>\n"
      ]
     },
     "metadata": {},
     "output_type": "display_data"
    }
   ],
   "source": [
    "line_chart_auction = px.line(auction_agg, x='date', y='duration_days', title='Average auction duration',\n",
    "                width=500, height =500, color_discrete_sequence=px.colors.qualitative.G10)\n",
    "line_chart_auction.update(layout=dict(title=dict(x=0.5)))\n",
    "line_chart_auction.update_layout(legend=dict(\n",
    "    yanchor=\"top\",\n",
    "    y=0.99,\n",
    "    xanchor=\"left\",\n",
    "    x=0.01\n",
    "))\n",
    "\n",
    "line_chart_auction.show()"
   ]
  },
  {
   "cell_type": "code",
   "execution_count": 60,
   "metadata": {},
   "outputs": [
    {
     "data": {
      "text/plain": [
       "event_type\n",
       "created          41593\n",
       "successful       18960\n",
       "offer_entered    17425\n",
       "transfer          8351\n",
       "cancelled          445\n",
       "bid_entered        156\n",
       "bid_withdrawn      124\n",
       "approve              1\n",
       "Name: token_id, dtype: int64"
      ]
     },
     "execution_count": 60,
     "metadata": {},
     "output_type": "execute_result"
    }
   ],
   "source": [
    "# See the distribution of event type\n",
    "event_type = all_nfts.groupby('event_type')['token_id'].count().sort_values(ascending=False)\n",
    "event_type"
   ]
  },
  {
   "cell_type": "code",
   "execution_count": 61,
   "metadata": {},
   "outputs": [],
   "source": [
    "# Choose data from successful transactions, top 4 auction_type and in year 2022\n",
    "event = all_nfts\n",
    "#auction['major_auction_type'] = auction['auction_type'].apply(lambda x: x in auction_type[:4].index)\n",
    "#auction = auction[auction['major_auction_type']==1]\n",
    "event = event[event['date'] > datetime.date(2022,1,1)]"
   ]
  },
  {
   "cell_type": "code",
   "execution_count": 62,
   "metadata": {},
   "outputs": [
    {
     "data": {
      "text/html": [
       "<div>\n",
       "<style scoped>\n",
       "    .dataframe tbody tr th:only-of-type {\n",
       "        vertical-align: middle;\n",
       "    }\n",
       "\n",
       "    .dataframe tbody tr th {\n",
       "        vertical-align: top;\n",
       "    }\n",
       "\n",
       "    .dataframe thead th {\n",
       "        text-align: right;\n",
       "    }\n",
       "</style>\n",
       "<table border=\"1\" class=\"dataframe\">\n",
       "  <thead>\n",
       "    <tr style=\"text-align: right;\">\n",
       "      <th></th>\n",
       "      <th>date</th>\n",
       "      <th>event_type</th>\n",
       "      <th>asset_token_id</th>\n",
       "      <th>collection_slug</th>\n",
       "      <th>created_date</th>\n",
       "      <th>id</th>\n",
       "      <th>quantity</th>\n",
       "      <th>listing_time</th>\n",
       "      <th>total_price</th>\n",
       "      <th>auction_type</th>\n",
       "      <th>...</th>\n",
       "      <th>token_id</th>\n",
       "      <th>owner_address</th>\n",
       "      <th>last_sale_total_price</th>\n",
       "      <th>name</th>\n",
       "      <th>num_sales</th>\n",
       "      <th>asset_contract_owner</th>\n",
       "      <th>asset_favorites</th>\n",
       "      <th>asset_category</th>\n",
       "      <th>num_check</th>\n",
       "      <th>favorite</th>\n",
       "    </tr>\n",
       "  </thead>\n",
       "  <tbody>\n",
       "    <tr>\n",
       "      <th>0</th>\n",
       "      <td>2022-01-02</td>\n",
       "      <td>created</td>\n",
       "      <td>17</td>\n",
       "      <td>17</td>\n",
       "      <td>17</td>\n",
       "      <td>17</td>\n",
       "      <td>17</td>\n",
       "      <td>17</td>\n",
       "      <td>0</td>\n",
       "      <td>17</td>\n",
       "      <td>...</td>\n",
       "      <td>17</td>\n",
       "      <td>17</td>\n",
       "      <td>11</td>\n",
       "      <td>14</td>\n",
       "      <td>17</td>\n",
       "      <td>16</td>\n",
       "      <td>17</td>\n",
       "      <td>17</td>\n",
       "      <td>17</td>\n",
       "      <td>17</td>\n",
       "    </tr>\n",
       "    <tr>\n",
       "      <th>1</th>\n",
       "      <td>2022-01-02</td>\n",
       "      <td>offer_entered</td>\n",
       "      <td>5</td>\n",
       "      <td>5</td>\n",
       "      <td>5</td>\n",
       "      <td>5</td>\n",
       "      <td>5</td>\n",
       "      <td>0</td>\n",
       "      <td>0</td>\n",
       "      <td>0</td>\n",
       "      <td>...</td>\n",
       "      <td>5</td>\n",
       "      <td>5</td>\n",
       "      <td>4</td>\n",
       "      <td>5</td>\n",
       "      <td>5</td>\n",
       "      <td>4</td>\n",
       "      <td>5</td>\n",
       "      <td>5</td>\n",
       "      <td>5</td>\n",
       "      <td>5</td>\n",
       "    </tr>\n",
       "    <tr>\n",
       "      <th>2</th>\n",
       "      <td>2022-01-02</td>\n",
       "      <td>successful</td>\n",
       "      <td>67</td>\n",
       "      <td>67</td>\n",
       "      <td>67</td>\n",
       "      <td>67</td>\n",
       "      <td>67</td>\n",
       "      <td>66</td>\n",
       "      <td>67</td>\n",
       "      <td>0</td>\n",
       "      <td>...</td>\n",
       "      <td>67</td>\n",
       "      <td>67</td>\n",
       "      <td>67</td>\n",
       "      <td>65</td>\n",
       "      <td>67</td>\n",
       "      <td>55</td>\n",
       "      <td>67</td>\n",
       "      <td>67</td>\n",
       "      <td>67</td>\n",
       "      <td>67</td>\n",
       "    </tr>\n",
       "    <tr>\n",
       "      <th>3</th>\n",
       "      <td>2022-01-02</td>\n",
       "      <td>transfer</td>\n",
       "      <td>9</td>\n",
       "      <td>9</td>\n",
       "      <td>9</td>\n",
       "      <td>9</td>\n",
       "      <td>9</td>\n",
       "      <td>0</td>\n",
       "      <td>0</td>\n",
       "      <td>0</td>\n",
       "      <td>...</td>\n",
       "      <td>9</td>\n",
       "      <td>9</td>\n",
       "      <td>5</td>\n",
       "      <td>9</td>\n",
       "      <td>9</td>\n",
       "      <td>9</td>\n",
       "      <td>9</td>\n",
       "      <td>9</td>\n",
       "      <td>9</td>\n",
       "      <td>9</td>\n",
       "    </tr>\n",
       "    <tr>\n",
       "      <th>4</th>\n",
       "      <td>2022-01-03</td>\n",
       "      <td>cancelled</td>\n",
       "      <td>3</td>\n",
       "      <td>3</td>\n",
       "      <td>3</td>\n",
       "      <td>3</td>\n",
       "      <td>3</td>\n",
       "      <td>3</td>\n",
       "      <td>3</td>\n",
       "      <td>0</td>\n",
       "      <td>...</td>\n",
       "      <td>3</td>\n",
       "      <td>3</td>\n",
       "      <td>3</td>\n",
       "      <td>3</td>\n",
       "      <td>3</td>\n",
       "      <td>3</td>\n",
       "      <td>3</td>\n",
       "      <td>3</td>\n",
       "      <td>3</td>\n",
       "      <td>3</td>\n",
       "    </tr>\n",
       "    <tr>\n",
       "      <th>...</th>\n",
       "      <td>...</td>\n",
       "      <td>...</td>\n",
       "      <td>...</td>\n",
       "      <td>...</td>\n",
       "      <td>...</td>\n",
       "      <td>...</td>\n",
       "      <td>...</td>\n",
       "      <td>...</td>\n",
       "      <td>...</td>\n",
       "      <td>...</td>\n",
       "      <td>...</td>\n",
       "      <td>...</td>\n",
       "      <td>...</td>\n",
       "      <td>...</td>\n",
       "      <td>...</td>\n",
       "      <td>...</td>\n",
       "      <td>...</td>\n",
       "      <td>...</td>\n",
       "      <td>...</td>\n",
       "      <td>...</td>\n",
       "      <td>...</td>\n",
       "    </tr>\n",
       "    <tr>\n",
       "      <th>333</th>\n",
       "      <td>2022-03-06</td>\n",
       "      <td>cancelled</td>\n",
       "      <td>22</td>\n",
       "      <td>22</td>\n",
       "      <td>22</td>\n",
       "      <td>22</td>\n",
       "      <td>22</td>\n",
       "      <td>22</td>\n",
       "      <td>22</td>\n",
       "      <td>0</td>\n",
       "      <td>...</td>\n",
       "      <td>22</td>\n",
       "      <td>22</td>\n",
       "      <td>20</td>\n",
       "      <td>22</td>\n",
       "      <td>22</td>\n",
       "      <td>20</td>\n",
       "      <td>22</td>\n",
       "      <td>22</td>\n",
       "      <td>22</td>\n",
       "      <td>22</td>\n",
       "    </tr>\n",
       "    <tr>\n",
       "      <th>334</th>\n",
       "      <td>2022-03-06</td>\n",
       "      <td>created</td>\n",
       "      <td>1476</td>\n",
       "      <td>1476</td>\n",
       "      <td>1476</td>\n",
       "      <td>1476</td>\n",
       "      <td>1476</td>\n",
       "      <td>1475</td>\n",
       "      <td>0</td>\n",
       "      <td>1476</td>\n",
       "      <td>...</td>\n",
       "      <td>1474</td>\n",
       "      <td>1474</td>\n",
       "      <td>768</td>\n",
       "      <td>1464</td>\n",
       "      <td>1474</td>\n",
       "      <td>1404</td>\n",
       "      <td>1474</td>\n",
       "      <td>1474</td>\n",
       "      <td>1474</td>\n",
       "      <td>1474</td>\n",
       "    </tr>\n",
       "    <tr>\n",
       "      <th>335</th>\n",
       "      <td>2022-03-06</td>\n",
       "      <td>offer_entered</td>\n",
       "      <td>3485</td>\n",
       "      <td>3485</td>\n",
       "      <td>3485</td>\n",
       "      <td>3485</td>\n",
       "      <td>3485</td>\n",
       "      <td>0</td>\n",
       "      <td>0</td>\n",
       "      <td>0</td>\n",
       "      <td>...</td>\n",
       "      <td>3482</td>\n",
       "      <td>3482</td>\n",
       "      <td>2981</td>\n",
       "      <td>3367</td>\n",
       "      <td>3482</td>\n",
       "      <td>3148</td>\n",
       "      <td>3482</td>\n",
       "      <td>3482</td>\n",
       "      <td>3482</td>\n",
       "      <td>3482</td>\n",
       "    </tr>\n",
       "    <tr>\n",
       "      <th>336</th>\n",
       "      <td>2022-03-06</td>\n",
       "      <td>successful</td>\n",
       "      <td>344</td>\n",
       "      <td>344</td>\n",
       "      <td>344</td>\n",
       "      <td>344</td>\n",
       "      <td>344</td>\n",
       "      <td>321</td>\n",
       "      <td>344</td>\n",
       "      <td>1</td>\n",
       "      <td>...</td>\n",
       "      <td>343</td>\n",
       "      <td>343</td>\n",
       "      <td>332</td>\n",
       "      <td>341</td>\n",
       "      <td>343</td>\n",
       "      <td>324</td>\n",
       "      <td>343</td>\n",
       "      <td>343</td>\n",
       "      <td>343</td>\n",
       "      <td>343</td>\n",
       "    </tr>\n",
       "    <tr>\n",
       "      <th>337</th>\n",
       "      <td>2022-03-06</td>\n",
       "      <td>transfer</td>\n",
       "      <td>727</td>\n",
       "      <td>727</td>\n",
       "      <td>727</td>\n",
       "      <td>727</td>\n",
       "      <td>727</td>\n",
       "      <td>0</td>\n",
       "      <td>0</td>\n",
       "      <td>0</td>\n",
       "      <td>...</td>\n",
       "      <td>727</td>\n",
       "      <td>727</td>\n",
       "      <td>714</td>\n",
       "      <td>724</td>\n",
       "      <td>727</td>\n",
       "      <td>687</td>\n",
       "      <td>727</td>\n",
       "      <td>727</td>\n",
       "      <td>727</td>\n",
       "      <td>727</td>\n",
       "    </tr>\n",
       "  </tbody>\n",
       "</table>\n",
       "<p>338 rows × 30 columns</p>\n",
       "</div>"
      ],
      "text/plain": [
       "           date     event_type  asset_token_id  collection_slug  created_date  \\\n",
       "0    2022-01-02        created              17               17            17   \n",
       "1    2022-01-02  offer_entered               5                5             5   \n",
       "2    2022-01-02     successful              67               67            67   \n",
       "3    2022-01-02       transfer               9                9             9   \n",
       "4    2022-01-03      cancelled               3                3             3   \n",
       "..          ...            ...             ...              ...           ...   \n",
       "333  2022-03-06      cancelled              22               22            22   \n",
       "334  2022-03-06        created            1476             1476          1476   \n",
       "335  2022-03-06  offer_entered            3485             3485          3485   \n",
       "336  2022-03-06     successful             344              344           344   \n",
       "337  2022-03-06       transfer             727              727           727   \n",
       "\n",
       "       id  quantity  listing_time  total_price  auction_type  ...  token_id  \\\n",
       "0      17        17            17            0            17  ...        17   \n",
       "1       5         5             0            0             0  ...         5   \n",
       "2      67        67            66           67             0  ...        67   \n",
       "3       9         9             0            0             0  ...         9   \n",
       "4       3         3             3            3             0  ...         3   \n",
       "..    ...       ...           ...          ...           ...  ...       ...   \n",
       "333    22        22            22           22             0  ...        22   \n",
       "334  1476      1476          1475            0          1476  ...      1474   \n",
       "335  3485      3485             0            0             0  ...      3482   \n",
       "336   344       344           321          344             1  ...       343   \n",
       "337   727       727             0            0             0  ...       727   \n",
       "\n",
       "     owner_address  last_sale_total_price  name  num_sales  \\\n",
       "0               17                     11    14         17   \n",
       "1                5                      4     5          5   \n",
       "2               67                     67    65         67   \n",
       "3                9                      5     9          9   \n",
       "4                3                      3     3          3   \n",
       "..             ...                    ...   ...        ...   \n",
       "333             22                     20    22         22   \n",
       "334           1474                    768  1464       1474   \n",
       "335           3482                   2981  3367       3482   \n",
       "336            343                    332   341        343   \n",
       "337            727                    714   724        727   \n",
       "\n",
       "     asset_contract_owner  asset_favorites  asset_category  num_check  \\\n",
       "0                      16               17              17         17   \n",
       "1                       4                5               5          5   \n",
       "2                      55               67              67         67   \n",
       "3                       9                9               9          9   \n",
       "4                       3                3               3          3   \n",
       "..                    ...              ...             ...        ...   \n",
       "333                    20               22              22         22   \n",
       "334                  1404             1474            1474       1474   \n",
       "335                  3148             3482            3482       3482   \n",
       "336                   324              343             343        343   \n",
       "337                   687              727             727        727   \n",
       "\n",
       "     favorite  \n",
       "0          17  \n",
       "1           5  \n",
       "2          67  \n",
       "3           9  \n",
       "4           3  \n",
       "..        ...  \n",
       "333        22  \n",
       "334      1474  \n",
       "335      3482  \n",
       "336       343  \n",
       "337       727  \n",
       "\n",
       "[338 rows x 30 columns]"
      ]
     },
     "execution_count": 62,
     "metadata": {},
     "output_type": "execute_result"
    }
   ],
   "source": [
    "event_agg = event.groupby(['date','event_type']).count().reset_index(level='event_type').reset_index()\n",
    "event_agg"
   ]
  },
  {
   "cell_type": "code",
   "execution_count": 63,
   "metadata": {},
   "outputs": [
    {
     "data": {
      "text/html": [
       "<iframe\n",
       "    scrolling=\"no\"\n",
       "    width=\"520px\"\n",
       "    height=\"520\"\n",
       "    src=\"iframe_figures/figure_63.html\"\n",
       "    frameborder=\"0\"\n",
       "    allowfullscreen\n",
       "></iframe>\n"
      ]
     },
     "metadata": {},
     "output_type": "display_data"
    }
   ],
   "source": [
    "# sales by aution type \n",
    "pie_chart = px.pie(\n",
    "                values= event_type.values,\n",
    "                title='Transaction Successful rate', \n",
    "                names= event_type.index,\n",
    "                hole=.3,\n",
    "                color_discrete_sequence=px.colors.qualitative.G10,\n",
    "                width=500, height =500\n",
    "                )\n",
    "pie_chart.update(layout=dict(title=dict(x=0.5)))\n",
    "pie_chart.show()"
   ]
  },
  {
   "cell_type": "markdown",
   "metadata": {},
   "source": [
    "# Machine Learning"
   ]
  },
  {
   "cell_type": "code",
   "execution_count": 64,
   "metadata": {},
   "outputs": [
    {
     "data": {
      "text/plain": [
       "Index(['asset_token_id', 'collection_slug', 'created_date', 'id', 'quantity',\n",
       "       'listing_time', 'event_type', 'total_price', 'auction_type', 'duration',\n",
       "       'primary_asset_contracts_address', 'display_data_card_display_style',\n",
       "       'safelist_request_status', 'telegram_url', 'twitter_username',\n",
       "       'instagram_username', 'discord_url', 'medium_username', 'external_url',\n",
       "       'token_id', 'owner_address', 'last_sale_total_price', 'name',\n",
       "       'num_sales', 'asset_contract_owner', 'asset_favorites',\n",
       "       'asset_category', 'num_check', 'favorite', 'date'],\n",
       "      dtype='object')"
      ]
     },
     "execution_count": 64,
     "metadata": {},
     "output_type": "execute_result"
    }
   ],
   "source": [
    "all_nfts.columns"
   ]
  },
  {
   "cell_type": "code",
   "execution_count": 65,
   "metadata": {},
   "outputs": [
    {
     "data": {
      "text/html": [
       "<iframe\n",
       "    scrolling=\"no\"\n",
       "    width=\"520px\"\n",
       "    height=\"520\"\n",
       "    src=\"iframe_figures/figure_65.html\"\n",
       "    frameborder=\"0\"\n",
       "    allowfullscreen\n",
       "></iframe>\n"
      ]
     },
     "metadata": {},
     "output_type": "display_data"
    }
   ],
   "source": [
    "scatter_plot = px.scatter(all_nfts, x='last_sale_total_price', y=\"total_price\",  title=\"Price changes\", \n",
    "                          range_y = [1, 25], trendline=\"ols\", width=500, height =500)\n",
    "scatter_plot.update_xaxes(title_text=\"Last price in log\", type=\"log\")\n",
    "scatter_plot.update_yaxes(title_text=\"Current price in log\", type=\"log\")\n",
    "scatter_plot.update(layout=dict(title=dict(x=0.5)))\n",
    "\n",
    "scatter_plot.show()"
   ]
  },
  {
   "cell_type": "code",
   "execution_count": 66,
   "metadata": {},
   "outputs": [
    {
     "data": {
      "text/html": [
       "<iframe\n",
       "    scrolling=\"no\"\n",
       "    width=\"520px\"\n",
       "    height=\"520\"\n",
       "    src=\"iframe_figures/figure_66.html\"\n",
       "    frameborder=\"0\"\n",
       "    allowfullscreen\n",
       "></iframe>\n"
      ]
     },
     "metadata": {},
     "output_type": "display_data"
    }
   ],
   "source": [
    "scatter_plot = px.scatter(all_nfts, x='quantity', y=\"total_price\",  title=\"quantity vs total_price\", \n",
    "                          range_y = [1, 25], trendline=\"ols\", width=500, height =500)\n",
    "scatter_plot.update_xaxes(title_text=\"quantity in log\", type=\"log\")\n",
    "scatter_plot.update_yaxes(title_text=\"Current price in log\", type=\"log\")\n",
    "scatter_plot.update(layout=dict(title=dict(x=0.5)))\n",
    "\n",
    "scatter_plot.show()"
   ]
  },
  {
   "cell_type": "code",
   "execution_count": 67,
   "metadata": {},
   "outputs": [
    {
     "data": {
      "text/html": [
       "<iframe\n",
       "    scrolling=\"no\"\n",
       "    width=\"520px\"\n",
       "    height=\"520\"\n",
       "    src=\"iframe_figures/figure_67.html\"\n",
       "    frameborder=\"0\"\n",
       "    allowfullscreen\n",
       "></iframe>\n"
      ]
     },
     "metadata": {},
     "output_type": "display_data"
    }
   ],
   "source": [
    "scatter_plot = px.scatter(all_nfts, x='favorite', y=\"total_price\",  title=\"favorite vs total_price\", \n",
    "                          range_y = [1, 25], trendline=\"ols\", width=500, height =500)\n",
    "scatter_plot.update_xaxes(title_text=\"favorite in log\", type=\"log\")\n",
    "scatter_plot.update_yaxes(title_text=\"Current price in log\", type=\"log\")\n",
    "scatter_plot.update(layout=dict(title=dict(x=0.5)))\n",
    "\n",
    "scatter_plot.show()"
   ]
  },
  {
   "cell_type": "code",
   "execution_count": 68,
   "metadata": {},
   "outputs": [],
   "source": [
    "# How can we train/fit models to known data to predict unknowns?\n",
    "# Population => Total Price, Cases => Total Price, Cases by Last Sale Total Price => Total Price"
   ]
  },
  {
   "cell_type": "code",
   "execution_count": null,
   "metadata": {},
   "outputs": [],
   "source": [
    "# USE THIS PATTERN\n",
    "\n",
    "# model = ????\n",
    "# model.fit(X, y)\n",
    "# y2 = model.predict(X2)"
   ]
  },
  {
   "cell_type": "code",
   "execution_count": null,
   "metadata": {},
   "outputs": [],
   "source": [
    "# for X values, sklearn wants a DataFrame (or something like it)\n",
    "# all_nfts[[\"last_sale_total_price\"]] # for X values\n",
    "\n",
    "# for y values, sklearn wants a Series (or something like it)\n",
    "# all_nfts[\"total_price\"] # for y values"
   ]
  },
  {
   "cell_type": "code",
   "execution_count": 78,
   "metadata": {},
   "outputs": [
    {
     "data": {
      "text/plain": [
       "3.837192621919068e+19"
      ]
     },
     "execution_count": 78,
     "metadata": {},
     "output_type": "execute_result"
    }
   ],
   "source": [
    "#all_nfts['last_sale_total_price_log10'] = np.log10(all_nfts['last_sale_total_price'])\n",
    "#all_nfts['total_price_log10'] = np.log10(all_nfts['total_price'])\n",
    "pricenft = all_nfts.filter(['total_price','last_sale_total_price'], axis=1)\n",
    "\n",
    "mean=pricenft.mean()\n",
    "mean[\"total_price\"]\n",
    "mean[\"last_sale_total_price\"]"
   ]
  },
  {
   "cell_type": "code",
   "execution_count": 79,
   "metadata": {},
   "outputs": [
    {
     "data": {
      "text/html": [
       "<div>\n",
       "<style scoped>\n",
       "    .dataframe tbody tr th:only-of-type {\n",
       "        vertical-align: middle;\n",
       "    }\n",
       "\n",
       "    .dataframe tbody tr th {\n",
       "        vertical-align: top;\n",
       "    }\n",
       "\n",
       "    .dataframe thead th {\n",
       "        text-align: right;\n",
       "    }\n",
       "</style>\n",
       "<table border=\"1\" class=\"dataframe\">\n",
       "  <thead>\n",
       "    <tr style=\"text-align: right;\">\n",
       "      <th></th>\n",
       "      <th>total_price</th>\n",
       "      <th>last_sale_total_price</th>\n",
       "    </tr>\n",
       "  </thead>\n",
       "  <tbody>\n",
       "    <tr>\n",
       "      <th>0</th>\n",
       "      <td>3.837193e+19</td>\n",
       "      <td>4.000000e+16</td>\n",
       "    </tr>\n",
       "    <tr>\n",
       "      <th>1</th>\n",
       "      <td>3.837193e+19</td>\n",
       "      <td>4.000000e+16</td>\n",
       "    </tr>\n",
       "    <tr>\n",
       "      <th>2</th>\n",
       "      <td>3.837193e+19</td>\n",
       "      <td>4.000000e+16</td>\n",
       "    </tr>\n",
       "    <tr>\n",
       "      <th>3</th>\n",
       "      <td>5.000000e+16</td>\n",
       "      <td>4.000000e+16</td>\n",
       "    </tr>\n",
       "    <tr>\n",
       "      <th>4</th>\n",
       "      <td>3.837193e+19</td>\n",
       "      <td>4.000000e+16</td>\n",
       "    </tr>\n",
       "    <tr>\n",
       "      <th>...</th>\n",
       "      <td>...</td>\n",
       "      <td>...</td>\n",
       "    </tr>\n",
       "    <tr>\n",
       "      <th>87160</th>\n",
       "      <td>3.837193e+19</td>\n",
       "      <td>3.514300e+19</td>\n",
       "    </tr>\n",
       "    <tr>\n",
       "      <th>87161</th>\n",
       "      <td>3.837193e+19</td>\n",
       "      <td>3.514300e+19</td>\n",
       "    </tr>\n",
       "    <tr>\n",
       "      <th>87162</th>\n",
       "      <td>3.837193e+19</td>\n",
       "      <td>3.514300e+19</td>\n",
       "    </tr>\n",
       "    <tr>\n",
       "      <th>87163</th>\n",
       "      <td>3.837193e+19</td>\n",
       "      <td>3.514300e+19</td>\n",
       "    </tr>\n",
       "    <tr>\n",
       "      <th>87164</th>\n",
       "      <td>3.837193e+19</td>\n",
       "      <td>3.514300e+19</td>\n",
       "    </tr>\n",
       "  </tbody>\n",
       "</table>\n",
       "<p>87164 rows × 2 columns</p>\n",
       "</div>"
      ],
      "text/plain": [
       "        total_price  last_sale_total_price\n",
       "0      3.837193e+19           4.000000e+16\n",
       "1      3.837193e+19           4.000000e+16\n",
       "2      3.837193e+19           4.000000e+16\n",
       "3      5.000000e+16           4.000000e+16\n",
       "4      3.837193e+19           4.000000e+16\n",
       "...             ...                    ...\n",
       "87160  3.837193e+19           3.514300e+19\n",
       "87161  3.837193e+19           3.514300e+19\n",
       "87162  3.837193e+19           3.514300e+19\n",
       "87163  3.837193e+19           3.514300e+19\n",
       "87164  3.837193e+19           3.514300e+19\n",
       "\n",
       "[87164 rows x 2 columns]"
      ]
     },
     "execution_count": 79,
     "metadata": {},
     "output_type": "execute_result"
    }
   ],
   "source": [
    "pricenft['total_price'] = pricenft['total_price'].fillna(mean[\"total_price\"])\n",
    "pricenft['last_sale_total_price'] = pricenft['last_sale_total_price'].fillna(mean[\"last_sale_total_price\"])\n",
    "pricenft"
   ]
  },
  {
   "cell_type": "code",
   "execution_count": 81,
   "metadata": {},
   "outputs": [
    {
     "data": {
      "text/html": [
       "<div>\n",
       "<style scoped>\n",
       "    .dataframe tbody tr th:only-of-type {\n",
       "        vertical-align: middle;\n",
       "    }\n",
       "\n",
       "    .dataframe tbody tr th {\n",
       "        vertical-align: top;\n",
       "    }\n",
       "\n",
       "    .dataframe thead th {\n",
       "        text-align: right;\n",
       "    }\n",
       "</style>\n",
       "<table border=\"1\" class=\"dataframe\">\n",
       "  <thead>\n",
       "    <tr style=\"text-align: right;\">\n",
       "      <th></th>\n",
       "      <th>last_sale_total_price</th>\n",
       "      <th>predicted_y</th>\n",
       "    </tr>\n",
       "  </thead>\n",
       "  <tbody>\n",
       "    <tr>\n",
       "      <th>0</th>\n",
       "      <td>1000</td>\n",
       "      <td>2.788168e+19</td>\n",
       "    </tr>\n",
       "    <tr>\n",
       "      <th>1</th>\n",
       "      <td>2000</td>\n",
       "      <td>2.788168e+19</td>\n",
       "    </tr>\n",
       "    <tr>\n",
       "      <th>2</th>\n",
       "      <td>3000</td>\n",
       "      <td>2.788168e+19</td>\n",
       "    </tr>\n",
       "  </tbody>\n",
       "</table>\n",
       "</div>"
      ],
      "text/plain": [
       "   last_sale_total_price   predicted_y\n",
       "0                   1000  2.788168e+19\n",
       "1                   2000  2.788168e+19\n",
       "2                   3000  2.788168e+19"
      ]
     },
     "execution_count": 81,
     "metadata": {},
     "output_type": "execute_result"
    }
   ],
   "source": [
    "model = LinearRegression()\n",
    "model.fit(pricenft[[\"last_sale_total_price\"]], pricenft[\"total_price\"]) # training\n",
    "\n",
    "predict_df = pd.DataFrame({\"last_sale_total_price\": [1000, 2000, 3000]}) # making prediction for new situations\n",
    "predict_df[\"predicted_y\"] = model.predict(predict_df)\n",
    "predict_df"
   ]
  },
  {
   "cell_type": "code",
   "execution_count": 96,
   "metadata": {},
   "outputs": [
    {
     "data": {
      "text/plain": [
       "100000000000"
      ]
     },
     "execution_count": 96,
     "metadata": {},
     "output_type": "execute_result"
    }
   ],
   "source": [
    "a=10**(11)\n",
    "a"
   ]
  },
  {
   "cell_type": "code",
   "execution_count": 103,
   "metadata": {},
   "outputs": [
    {
     "data": {
      "text/html": [
       "<div>\n",
       "<style scoped>\n",
       "    .dataframe tbody tr th:only-of-type {\n",
       "        vertical-align: middle;\n",
       "    }\n",
       "\n",
       "    .dataframe tbody tr th {\n",
       "        vertical-align: top;\n",
       "    }\n",
       "\n",
       "    .dataframe thead th {\n",
       "        text-align: right;\n",
       "    }\n",
       "</style>\n",
       "<table border=\"1\" class=\"dataframe\">\n",
       "  <thead>\n",
       "    <tr style=\"text-align: right;\">\n",
       "      <th></th>\n",
       "      <th>last_sale_total_price</th>\n",
       "      <th>predicted_y</th>\n",
       "    </tr>\n",
       "  </thead>\n",
       "  <tbody>\n",
       "    <tr>\n",
       "      <th>0</th>\n",
       "      <td>0</td>\n",
       "      <td>2.788168e+19</td>\n",
       "    </tr>\n",
       "    <tr>\n",
       "      <th>1</th>\n",
       "      <td>1</td>\n",
       "      <td>2.788168e+19</td>\n",
       "    </tr>\n",
       "    <tr>\n",
       "      <th>2</th>\n",
       "      <td>2</td>\n",
       "      <td>2.788168e+19</td>\n",
       "    </tr>\n",
       "    <tr>\n",
       "      <th>3</th>\n",
       "      <td>3</td>\n",
       "      <td>2.788168e+19</td>\n",
       "    </tr>\n",
       "    <tr>\n",
       "      <th>4</th>\n",
       "      <td>4</td>\n",
       "      <td>2.788168e+19</td>\n",
       "    </tr>\n",
       "  </tbody>\n",
       "</table>\n",
       "</div>"
      ],
      "text/plain": [
       "   last_sale_total_price   predicted_y\n",
       "0                      0  2.788168e+19\n",
       "1                      1  2.788168e+19\n",
       "2                      2  2.788168e+19\n",
       "3                      3  2.788168e+19\n",
       "4                      4  2.788168e+19"
      ]
     },
     "execution_count": 103,
     "metadata": {},
     "output_type": "execute_result"
    }
   ],
   "source": [
    "# How can we visualize model predictions?\n",
    "predict_df = pd.DataFrame({\"last_sale_total_price\": range(0, 20000)})\n",
    "predict_df[\"predicted_y\"] = model.predict(predict_df)\n",
    "predict_df.head()"
   ]
  },
  {
   "cell_type": "code",
   "execution_count": 92,
   "metadata": {},
   "outputs": [
    {
     "data": {
      "image/png": "[encoded data removed]",
      "text/plain": [
       "<Figure size 432x288 with 1 Axes>"
      ]
     },
     "metadata": {
      "needs_background": "light"
     },
     "output_type": "display_data"
    }
   ],
   "source": [
    "ax = predict_df.plot.line(x=\"last_sale_total_price\", y=\"predicted_y\", color=\"red\")\n",
    "pricenft.plot.scatter(x=\"last_sale_total_price\", y=\"total_price\", ax=ax, color=\"black\", alpha=0.05)\n",
    "ax.set_yscale('log')\n",
    "ax.set_xscale('log')"
   ]
  },
  {
   "cell_type": "code",
   "execution_count": null,
   "metadata": {},
   "outputs": [],
   "source": [
    "# How can we get a formula for the relationship?"
   ]
  },
  {
   "cell_type": "code",
   "execution_count": 104,
   "metadata": {},
   "outputs": [
    {
     "data": {
      "text/plain": [
       "'total_price ~= 0.298502 * last_sale_total_price + 2.7881676795722023e+19'"
      ]
     },
     "execution_count": 104,
     "metadata": {},
     "output_type": "execute_result"
    }
   ],
   "source": [
    "f\"total_price ~= {round(model.coef_[0], 6)} * last_sale_total_price + {round(model.intercept_, 2)}\""
   ]
  },
  {
   "cell_type": "code",
   "execution_count": null,
   "metadata": {},
   "outputs": [],
   "source": [
    "# How well does our model fit the data?\n",
    "# r^2 score (explained variance)"
   ]
  },
  {
   "cell_type": "code",
   "execution_count": 111,
   "metadata": {},
   "outputs": [
    {
     "data": {
      "text/plain": [
       "0.20041195320721206"
      ]
     },
     "execution_count": 111,
     "metadata": {},
     "output_type": "execute_result"
    }
   ],
   "source": [
    "model.score(pricenft[[\"last_sale_total_price\"]], pricenft[\"total_price\"]) "
   ]
  },
  {
   "cell_type": "code",
   "execution_count": 113,
   "metadata": {},
   "outputs": [
    {
     "data": {
      "text/plain": [
       "(65373, 21791)"
      ]
     },
     "execution_count": 113,
     "metadata": {},
     "output_type": "execute_result"
    }
   ],
   "source": [
    "train, test = train_test_split(pricenft)\n",
    "len(train), len(test)"
   ]
  },
  {
   "cell_type": "code",
   "execution_count": 120,
   "metadata": {},
   "outputs": [
    {
     "data": {
      "text/plain": [
       "0.29061251567169877"
      ]
     },
     "execution_count": 120,
     "metadata": {},
     "output_type": "execute_result"
    }
   ],
   "source": [
    "model = LinearRegression()\n",
    "model.fit(train[[\"last_sale_total_price\"]], train[\"total_price\"])\n",
    "model.score(test[[\"last_sale_total_price\"]], test[\"total_price\"]) # r^2 score\n",
    "#model.score(train[[\"last_sale_total_price\"]], train[\"total_price\"])"
   ]
  },
  {
   "cell_type": "code",
   "execution_count": 115,
   "metadata": {},
   "outputs": [
    {
     "data": {
      "text/plain": [
       "array([ 0.00599564,  0.01790183, -0.04691402,  0.16134844, -0.02947376])"
      ]
     },
     "execution_count": 115,
     "metadata": {},
     "output_type": "execute_result"
    }
   ],
   "source": [
    "# How can we minimize noise due to random train/test splits?\n",
    "scores = cross_val_score(model, train[[\"last_sale_total_price\"]], train[\"total_price\"])\n",
    "scores"
   ]
  },
  {
   "cell_type": "code",
   "execution_count": 116,
   "metadata": {},
   "outputs": [
    {
     "data": {
      "text/plain": [
       "0.021771626334149217"
      ]
     },
     "execution_count": 116,
     "metadata": {},
     "output_type": "execute_result"
    }
   ],
   "source": [
    "scores.mean()"
   ]
  },
  {
   "cell_type": "code",
   "execution_count": 117,
   "metadata": {},
   "outputs": [
    {
     "data": {
      "text/plain": [
       "0.07360618502785922"
      ]
     },
     "execution_count": 117,
     "metadata": {},
     "output_type": "execute_result"
    }
   ],
   "source": [
    "scores.std()"
   ]
  },
  {
   "cell_type": "code",
   "execution_count": 118,
   "metadata": {},
   "outputs": [
    {
     "data": {
      "text/plain": [
       "Index(['asset_token_id', 'collection_slug', 'created_date', 'id', 'quantity',\n",
       "       'listing_time', 'event_type', 'total_price', 'auction_type', 'duration',\n",
       "       'primary_asset_contracts_address', 'display_data_card_display_style',\n",
       "       'safelist_request_status', 'telegram_url', 'twitter_username',\n",
       "       'instagram_username', 'discord_url', 'medium_username', 'external_url',\n",
       "       'token_id', 'owner_address', 'last_sale_total_price', 'name',\n",
       "       'num_sales', 'asset_contract_owner', 'asset_favorites',\n",
       "       'asset_category', 'num_check', 'favorite', 'date'],\n",
       "      dtype='object')"
      ]
     },
     "execution_count": 118,
     "metadata": {},
     "output_type": "execute_result"
    }
   ],
   "source": [
    "all_nfts.columns"
   ]
  },
  {
   "cell_type": "code",
   "execution_count": 130,
   "metadata": {},
   "outputs": [],
   "source": [
    "# multivariable linear regression\n",
    "# favorite, num_sales, duration,aution_type(english=0,dutch=1)\n",
    "regnft = all_nfts.filter(['favorite','num_sales','total_price','duration','last_sale_total_price'], axis=1)\n"
   ]
  },
  {
   "cell_type": "code",
   "execution_count": 131,
   "metadata": {},
   "outputs": [
    {
     "data": {
      "text/plain": [
       "favorite                 5.454577e+01\n",
       "num_sales                4.540096e+01\n",
       "total_price              3.837193e+19\n",
       "duration                 1.330194e+07\n",
       "last_sale_total_price    3.514300e+19\n",
       "dtype: float64"
      ]
     },
     "execution_count": 131,
     "metadata": {},
     "output_type": "execute_result"
    }
   ],
   "source": [
    "mean=regnft.mean()\n",
    "mean[\"total_price\"]\n",
    "mean[\"last_sale_total_price\"]\n",
    "mean"
   ]
  },
  {
   "cell_type": "code",
   "execution_count": 132,
   "metadata": {},
   "outputs": [
    {
     "data": {
      "text/html": [
       "<div>\n",
       "<style scoped>\n",
       "    .dataframe tbody tr th:only-of-type {\n",
       "        vertical-align: middle;\n",
       "    }\n",
       "\n",
       "    .dataframe tbody tr th {\n",
       "        vertical-align: top;\n",
       "    }\n",
       "\n",
       "    .dataframe thead th {\n",
       "        text-align: right;\n",
       "    }\n",
       "</style>\n",
       "<table border=\"1\" class=\"dataframe\">\n",
       "  <thead>\n",
       "    <tr style=\"text-align: right;\">\n",
       "      <th></th>\n",
       "      <th>favorite</th>\n",
       "      <th>num_sales</th>\n",
       "      <th>total_price</th>\n",
       "      <th>duration</th>\n",
       "      <th>last_sale_total_price</th>\n",
       "    </tr>\n",
       "  </thead>\n",
       "  <tbody>\n",
       "    <tr>\n",
       "      <th>0</th>\n",
       "      <td>17.0</td>\n",
       "      <td>2.0</td>\n",
       "      <td>3.837193e+19</td>\n",
       "      <td>5.576750e+05</td>\n",
       "      <td>4.000000e+16</td>\n",
       "    </tr>\n",
       "    <tr>\n",
       "      <th>1</th>\n",
       "      <td>17.0</td>\n",
       "      <td>2.0</td>\n",
       "      <td>3.837193e+19</td>\n",
       "      <td>5.748060e+05</td>\n",
       "      <td>4.000000e+16</td>\n",
       "    </tr>\n",
       "    <tr>\n",
       "      <th>2</th>\n",
       "      <td>17.0</td>\n",
       "      <td>2.0</td>\n",
       "      <td>3.837193e+19</td>\n",
       "      <td>6.048880e+05</td>\n",
       "      <td>4.000000e+16</td>\n",
       "    </tr>\n",
       "    <tr>\n",
       "      <th>3</th>\n",
       "      <td>17.0</td>\n",
       "      <td>2.0</td>\n",
       "      <td>5.000000e+16</td>\n",
       "      <td>1.330194e+07</td>\n",
       "      <td>4.000000e+16</td>\n",
       "    </tr>\n",
       "    <tr>\n",
       "      <th>4</th>\n",
       "      <td>17.0</td>\n",
       "      <td>2.0</td>\n",
       "      <td>3.837193e+19</td>\n",
       "      <td>1.330194e+07</td>\n",
       "      <td>4.000000e+16</td>\n",
       "    </tr>\n",
       "    <tr>\n",
       "      <th>...</th>\n",
       "      <td>...</td>\n",
       "      <td>...</td>\n",
       "      <td>...</td>\n",
       "      <td>...</td>\n",
       "      <td>...</td>\n",
       "    </tr>\n",
       "    <tr>\n",
       "      <th>87160</th>\n",
       "      <td>0.0</td>\n",
       "      <td>0.0</td>\n",
       "      <td>3.837193e+19</td>\n",
       "      <td>1.330194e+07</td>\n",
       "      <td>3.514300e+19</td>\n",
       "    </tr>\n",
       "    <tr>\n",
       "      <th>87161</th>\n",
       "      <td>1.0</td>\n",
       "      <td>0.0</td>\n",
       "      <td>3.837193e+19</td>\n",
       "      <td>1.563849e+07</td>\n",
       "      <td>3.514300e+19</td>\n",
       "    </tr>\n",
       "    <tr>\n",
       "      <th>87162</th>\n",
       "      <td>1.0</td>\n",
       "      <td>0.0</td>\n",
       "      <td>3.837193e+19</td>\n",
       "      <td>1.330194e+07</td>\n",
       "      <td>3.514300e+19</td>\n",
       "    </tr>\n",
       "    <tr>\n",
       "      <th>87163</th>\n",
       "      <td>1.0</td>\n",
       "      <td>0.0</td>\n",
       "      <td>3.837193e+19</td>\n",
       "      <td>1.330194e+07</td>\n",
       "      <td>3.514300e+19</td>\n",
       "    </tr>\n",
       "    <tr>\n",
       "      <th>87164</th>\n",
       "      <td>0.0</td>\n",
       "      <td>0.0</td>\n",
       "      <td>3.837193e+19</td>\n",
       "      <td>1.330194e+07</td>\n",
       "      <td>3.514300e+19</td>\n",
       "    </tr>\n",
       "  </tbody>\n",
       "</table>\n",
       "<p>87164 rows × 5 columns</p>\n",
       "</div>"
      ],
      "text/plain": [
       "       favorite  num_sales   total_price      duration  last_sale_total_price\n",
       "0          17.0        2.0  3.837193e+19  5.576750e+05           4.000000e+16\n",
       "1          17.0        2.0  3.837193e+19  5.748060e+05           4.000000e+16\n",
       "2          17.0        2.0  3.837193e+19  6.048880e+05           4.000000e+16\n",
       "3          17.0        2.0  5.000000e+16  1.330194e+07           4.000000e+16\n",
       "4          17.0        2.0  3.837193e+19  1.330194e+07           4.000000e+16\n",
       "...         ...        ...           ...           ...                    ...\n",
       "87160       0.0        0.0  3.837193e+19  1.330194e+07           3.514300e+19\n",
       "87161       1.0        0.0  3.837193e+19  1.563849e+07           3.514300e+19\n",
       "87162       1.0        0.0  3.837193e+19  1.330194e+07           3.514300e+19\n",
       "87163       1.0        0.0  3.837193e+19  1.330194e+07           3.514300e+19\n",
       "87164       0.0        0.0  3.837193e+19  1.330194e+07           3.514300e+19\n",
       "\n",
       "[87164 rows x 5 columns]"
      ]
     },
     "execution_count": 132,
     "metadata": {},
     "output_type": "execute_result"
    }
   ],
   "source": [
    "regnft['total_price'] = regnft['total_price'].fillna(mean[\"total_price\"])\n",
    "regnft['last_sale_total_price'] = regnft['last_sale_total_price'].fillna(mean[\"last_sale_total_price\"])\n",
    "regnft['num_sales'] = regnft['num_sales'].fillna(mean[\"num_sales\"])\n",
    "regnft['favorite'] = regnft['favorite'].fillna(mean[\"favorite\"])\n",
    "regnft['duration'] = regnft['duration'].fillna(mean[\"duration\"])\n",
    "\n",
    "regnft"
   ]
  },
  {
   "cell_type": "code",
   "execution_count": 134,
   "metadata": {},
   "outputs": [
    {
     "data": {
      "text/plain": [
       "(65373, 21791)"
      ]
     },
     "execution_count": 134,
     "metadata": {},
     "output_type": "execute_result"
    }
   ],
   "source": [
    "train, test = train_test_split(regnft)\n",
    "len(train), len(test)"
   ]
  },
  {
   "cell_type": "code",
   "execution_count": 135,
   "metadata": {},
   "outputs": [
    {
     "data": {
      "text/plain": [
       "0.1475182199472933"
      ]
     },
     "execution_count": 135,
     "metadata": {},
     "output_type": "execute_result"
    }
   ],
   "source": [
    "xcols = ['favorite','num_sales','duration','last_sale_total_price']\n",
    "\n",
    "model = LinearRegression()\n",
    "model.fit(train[xcols], train[\"total_price\"]) # training\n",
    "\n",
    "model.score(test[xcols], test[\"total_price\"])"
   ]
  },
  {
   "cell_type": "code",
   "execution_count": 139,
   "metadata": {},
   "outputs": [
    {
     "data": {
      "text/plain": [
       "0.1423468317874651"
      ]
     },
     "execution_count": 139,
     "metadata": {},
     "output_type": "execute_result"
    }
   ],
   "source": [
    "from sklearn.ensemble import RandomForestRegressor\n",
    "forest1 = RandomForestRegressor(n_estimators=100,\n",
    "                                random_state=123,\n",
    "                                max_depth = 50)\n",
    "forest1.fit(train[xcols], train[\"total_price\"])\n",
    "forest1.score(test[xcols], test[\"total_price\"])"
   ]
  },
  {
   "cell_type": "code",
   "execution_count": null,
   "metadata": {},
   "outputs": [],
   "source": [
    "from xgboost import XGBRegressor\n",
    "xg_classifier1 = XGBRegressor(random_state = 123)\n",
    "xg_classifier1.fit(train[xcols], train[\"total_price\"])\n",
    "print(xg_classifier1.score(train[xcols], train[\"total_price\"]))\n",
    "print(xg_classifier1.score(test[xcols], test[\"total_price\"]))"
   ]
  },
  {
   "cell_type": "code",
   "execution_count": null,
   "metadata": {},
   "outputs": [],
   "source": [
    "from keras.models import Sequential\n",
    "from keras.layers import Dense, Activation\n",
    "import numpy as np"
   ]
  },
  {
   "cell_type": "code",
   "execution_count": null,
   "metadata": {},
   "outputs": [],
   "source": []
  },
  {
   "cell_type": "markdown",
   "metadata": {},
   "source": [
    "## App Setup"
   ]
  },
  {
   "cell_type": "code",
   "execution_count": 23,
   "metadata": {},
   "outputs": [],
   "source": [
    "# Setup the style from the link:\n",
    "external_stylesheets = ['https://codepen.io/chriddyp/pen/bWLwgP.css']\n",
    "# Embed the style to the dashabord:\n",
    "app = dash.Dash(__name__, external_stylesheets=external_stylesheets)\n",
    "#app = dash.Dash(__name__)"
   ]
  },
  {
   "cell_type": "code",
   "execution_count": 24,
   "metadata": {},
   "outputs": [
    {
     "ename": "NameError",
     "evalue": "name 'box_chart' is not defined",
     "output_type": "error",
     "traceback": [
      "\u001b[1;31m---------------------------------------------------------------------------\u001b[0m",
      "\u001b[1;31mNameError\u001b[0m                                 Traceback (most recent call last)",
      "\u001b[1;32m<ipython-input-24-9a4fedb48932>\u001b[0m in \u001b[0;36m<module>\u001b[1;34m\u001b[0m\n\u001b[0;32m      5\u001b[0m     html.Div([dcc.Graph(id='pie_chart', figure=pie_chart, className='four columns'),\n\u001b[0;32m      6\u001b[0m               \u001b[0mdcc\u001b[0m\u001b[1;33m.\u001b[0m\u001b[0mGraph\u001b[0m\u001b[1;33m(\u001b[0m\u001b[0mid\u001b[0m\u001b[1;33m=\u001b[0m\u001b[1;34m'bar_chart'\u001b[0m\u001b[1;33m,\u001b[0m \u001b[0mfigure\u001b[0m\u001b[1;33m=\u001b[0m\u001b[0mbar_chart\u001b[0m\u001b[1;33m,\u001b[0m \u001b[0mclassName\u001b[0m\u001b[1;33m=\u001b[0m\u001b[1;34m'four columns'\u001b[0m\u001b[1;33m)\u001b[0m\u001b[1;33m,\u001b[0m\u001b[1;33m\u001b[0m\u001b[1;33m\u001b[0m\u001b[0m\n\u001b[1;32m----> 7\u001b[1;33m               \u001b[0mdcc\u001b[0m\u001b[1;33m.\u001b[0m\u001b[0mGraph\u001b[0m\u001b[1;33m(\u001b[0m\u001b[0mid\u001b[0m\u001b[1;33m=\u001b[0m\u001b[1;34m'box_chart'\u001b[0m\u001b[1;33m,\u001b[0m \u001b[0mfigure\u001b[0m\u001b[1;33m=\u001b[0m\u001b[0mbox_chart\u001b[0m\u001b[1;33m,\u001b[0m \u001b[0mclassName\u001b[0m\u001b[1;33m=\u001b[0m\u001b[1;34m'three columns'\u001b[0m\u001b[1;33m)\u001b[0m\u001b[1;33m\u001b[0m\u001b[1;33m\u001b[0m\u001b[0m\n\u001b[0m\u001b[0;32m      8\u001b[0m              ]),\n\u001b[0;32m      9\u001b[0m \u001b[1;33m\u001b[0m\u001b[0m\n",
      "\u001b[1;31mNameError\u001b[0m: name 'box_chart' is not defined"
     ]
    }
   ],
   "source": [
    "app.layout = html.Div([\n",
    "    html.H2(children=\"NFT Analytical Dashboard\"),\n",
    "    \n",
    "\n",
    "    html.Div([dcc.Graph(id='pie_chart', figure=pie_chart, className='four columns'),\n",
    "              dcc.Graph(id='bar_chart', figure=bar_chart, className='four columns'),\n",
    "              dcc.Graph(id='box_chart', figure=box_chart, className='three columns')\n",
    "             ]),\n",
    "\n",
    "    \n",
    "    html.Div([dcc.Graph(id='line_chart_sales', figure=line_chart_sales, className='four columns'), \n",
    "              dcc.Graph(id='scatter_plot', figure=scatter_plot, className='four columns'),\n",
    "              dcc.Graph(id='line_chart_auction', figure=line_chart_auction, className='three columns')\n",
    "             ]),\n",
    "    \n",
    "    # Set up some end notes\n",
    "    html.H2(children= 'Produced by RMDS Lab for 2022 Q1 Competition'),\n",
    "    \n",
    "    dcc.Link(children= 'See Competition Page    &   ', href = 'https://grmds.org/comp/nft', target = 'https://grmds.org/comp/nft'),\n",
    "    \n",
    "    dcc.Link(children= 'RMDS Covid Risk Map', href = 'https://grmds.org/risk/', target = 'https://grmds.org/risk/')\n",
    "\n",
    "], style={\"text-align\": \"center\"})\n",
    "\n"
   ]
  },
  {
   "cell_type": "code",
   "execution_count": 25,
   "metadata": {},
   "outputs": [
    {
     "name": "stdout",
     "output_type": "stream",
     "text": [
      "Dash is running on http://127.0.0.1:7998/\n",
      "\n",
      " * Serving Flask app \"__main__\" (lazy loading)\n",
      " * Environment: production\n",
      "   WARNING: This is a development server. Do not use it in a production deployment.\n",
      "   Use a production WSGI server instead.\n",
      " * Debug mode: off\n"
     ]
    },
    {
     "name": "stderr",
     "output_type": "stream",
     "text": [
      " * Running on http://127.0.0.1:7998/ (Press CTRL+C to quit)\n"
     ]
    }
   ],
   "source": [
    "if __name__ == \"__main__\":\n",
    "    app.run_server(port=7998)"
   ]
  },
  {
   "cell_type": "code",
   "execution_count": null,
   "metadata": {},
   "outputs": [],
   "source": []
  },
  {
   "cell_type": "code",
   "execution_count": null,
   "metadata": {},
   "outputs": [],
   "source": []
  }
 ],
 "metadata": {
  "kernelspec": {
   "display_name": "Python 3",
   "language": "python",
   "name": "python3"
  },
  "language_info": {
   "codemirror_mode": {
    "name": "ipython",
    "version": 3
   },
   "file_extension": ".py",
   "mimetype": "text/x-python",
   "name": "python",
   "nbconvert_exporter": "python",
   "pygments_lexer": "ipython3",
   "version": "3.8.8"
  }
 },
 "nbformat": 4,
 "nbformat_minor": 4
}
